{
 "cells": [
  {
   "cell_type": "code",
   "execution_count": 1,
   "id": "bfa18811-4033-4b04-8cce-e23f761ace82",
   "metadata": {},
   "outputs": [],
   "source": [
    "### Usual imports\n",
    "import numpy as np\n",
    "import matplotlib.pyplot as plt\n",
    "\n",
    "### Finesse imports\n",
    "import finesse\n",
    "import finesse.components as fc\n",
    "import finesse.detectors as fd\n",
    "import finesse.analysis as fa"
   ]
  },
  {
   "cell_type": "code",
   "execution_count": null,
   "id": "ed6a2a89",
   "metadata": {},
   "outputs": [],
   "source": []
  }
 ],
 "metadata": {
  "kernelspec": {
   "display_name": "Python 3 (ipykernel)",
   "language": "python",
   "name": "python3"
  },
  "language_info": {
   "codemirror_mode": {
    "name": "ipython",
    "version": 3
   },
   "file_extension": ".py",
   "mimetype": "text/x-python",
   "name": "python",
   "nbconvert_exporter": "python",
   "pygments_lexer": "ipython3",
   "version": "3.10.12"
  }
 },
 "nbformat": 4,
 "nbformat_minor": 5
}
