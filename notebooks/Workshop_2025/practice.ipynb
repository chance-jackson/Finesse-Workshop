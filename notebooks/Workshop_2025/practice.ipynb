{
 "cells": [
  {
   "cell_type": "code",
   "execution_count": 1,
   "id": "3cc3205d",
   "metadata": {},
   "outputs": [],
   "source": [
    "import finesse\n",
    "import finesse.analysis.actions as fac\n",
    "import matplotlib.pylab as plt\n",
    "import finesse.components as fc\n",
    "import finesse.detectors as det\n",
    "finesse.configure(plotting=True)\n"
   ]
  },
  {
   "cell_type": "code",
   "execution_count": 2,
   "id": "fdaada98",
   "metadata": {},
   "outputs": [],
   "source": [
    "# In this notebook, we will solve the quiz1 from the Finesse workshop.\n",
    "\n",
    "# TASK 1: Build a model similar to the example in the workshop, but with an EOM inserted before the cavity.\n",
    "# The syntax for adding an EOM is as follows:\n",
    "# model.add(fc.modulator.Modulator(\"name\", mod_type=\"pm\", midx, f, phase=0))\n",
    "# where \"midx\" is the modulation index, \"f\" is the modulation frequency, and \"phase\" is the phase shift.\n"
   ]
  },
  {
   "cell_type": "code",
   "execution_count": 3,
   "id": "6ee9c5d0",
   "metadata": {},
   "outputs": [],
   "source": [
    "# TASK 2: Scan the laser's frequency, or the cavity's length, and see the sidebands in the spectrum.\n",
    "\n"
   ]
  },
  {
   "cell_type": "code",
   "execution_count": null,
   "id": "970f9bdb",
   "metadata": {},
   "outputs": [],
   "source": [
    "# TASK3\n",
    "# Confirm that the sidebands are at the expected frequencies. You can add a vertical line at the expected frequency using the following command:\n",
    "# plt.axvline(x=expected_frequency, color='r', linestyle='--', label='Expected Frequency of SB')\n",
    "\n"
   ]
  },
  {
   "cell_type": "code",
   "execution_count": null,
   "id": "798a2991",
   "metadata": {},
   "outputs": [],
   "source": [
    "# Bonus Task: Add an amplitude detector and measure the power in the carrier and sidebands.\n"
   ]
  }
 ],
 "metadata": {
  "kernelspec": {
   "display_name": "myenv",
   "language": "python",
   "name": "python3"
  },
  "language_info": {
   "codemirror_mode": {
    "name": "ipython",
    "version": 3
   },
   "file_extension": ".py",
   "mimetype": "text/x-python",
   "name": "python",
   "nbconvert_exporter": "python",
   "pygments_lexer": "ipython3",
   "version": "3.11.12"
  }
 },
 "nbformat": 4,
 "nbformat_minor": 5
}
